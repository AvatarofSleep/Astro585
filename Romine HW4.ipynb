{
 "metadata": {
  "language": "Julia",
  "name": ""
 },
 "nbformat": 3,
 "nbformat_minor": 0,
 "worksheets": [
  {
   "cells": [
    {
     "cell_type": "markdown",
     "metadata": {},
     "source": [
      "## Problem 1\n",
      "\n",
      "1.a.\n",
      "For this Exercise, the two profiled functions will be the leapfrog function created by Eric Ford and the student code found in his github repository.  \n",
      "\n",
      "1.b. \n",
      "\n",
      "HW_leapfrog.jl\n",
      "In integrate_leapfrog, line 87 will take the longest. It has the most children, as it goes to advance_leapfrog, which then goes to update_derivs_pos and _vel. In this vel is there all the calculation is done. I would guess over half the time is in this part. \n",
      "\n",
      "HW_leapfrog_student.jl\n",
      "In integrate_leapfrog_student, eachpart only calls one other function, and I would guess derivatives take the longest, but only about a third of the total time."
     ]
    },
    {
     "cell_type": "code",
     "collapsed": false,
     "input": [
      "include(\"HW4_leapfrog.jl\")\n",
      "include(\"HW4_leapfrog_student.jl\")\n",
      "\n",
      "@profile (for i in 1:100; integrate_leapfrog!([1.0,0.0,0.0,1.0],.01,100.00); end;)\n",
      "\n",
      "Profile.print(format =: flat)"
     ],
     "language": "python",
     "metadata": {},
     "outputs": [
      {
       "output_type": "stream",
       "stream": "stdout",
       "text": [
        " Count"
       ]
      },
      {
       "output_type": "stream",
       "stream": "stdout",
       "text": [
        " File                       Function                                 Line\n",
        "     7 ...stro585\\HW4_leapfrog.jl advance_leapfrog!                          46\n",
        "     2 ...stro585\\HW4_leapfrog.jl advance_leapfrog!                          49\n",
        "   125 ...stro585\\HW4_leapfrog.jl advance_leapfrog!                          51\n",
        "    68 ...stro585\\HW4_leapfrog.jl advance_leapfrog!                          52\n",
        "    99 ...stro585\\HW4_leapfrog.jl advance_leapfrog!                          53\n",
        "    15 ...stro585\\HW4_leapfrog.jl advance_leapfrog!                          54\n",
        "    93 ...stro585\\HW4_leapfrog.jl advance_leapfrog!                          55\n",
        "     1 ...stro585\\HW4_leapfrog.jl integrate_leapfrog!                        78\n",
        "     2 ...stro585\\HW4_leapfrog.jl integrate_leapfrog!                        82\n",
        "     3 ...stro585\\HW4_leapfrog.jl integrate_leapfrog!                        84\n",
        "   136 ...stro585\\HW4_leapfrog.jl integrate_leapfrog!                        87\n",
        "     8 ...stro585\\HW4_leapfrog.jl integrate_leapfrog!                        91\n",
        "     1 ...stro585\\HW4_leapfrog.jl integrate_leapfrog!                        93\n",
        "    57 ...stro585\\HW4_leapfrog.jl integrate_leapfrog!                        94\n",
        "   192 ...stro585\\HW4_leapfrog.jl integrate_leapfrog!                        95\n",
        "     2 ...stro585\\HW4_leapfrog.jl update_derivs_pos!                          6\n",
        "     2 ...stro585\\HW4_leapfrog.jl update_derivs_pos!                          7\n",
        "     1 ...stro585\\HW4_leapfrog.jl update_derivs_pos!                          8\n",
        "     2 ...stro585\\HW4_leapfrog.jl update_derivs_pos!                         11\n",
        "     5 ...stro585\\HW4_leapfrog.jl update_derivs_vel!                         18\n",
        "     1 ...stro585\\HW4_leapfrog.jl update_derivs_vel!                         21\n",
        "     1 ...stro585\\HW4_leapfrog.jl update_derivs_vel!                         22\n",
        "     5 ...stro585\\HW4_leapfrog.jl update_derivs_vel!                         23\n",
        "     1 ...stro585\\HW4_leapfrog.jl update_derivs_vel!                         24\n",
        "     1 ...stro585\\HW4_leapfrog.jl update_derivs_vel!                         25\n",
        "    16 ...stro585\\HW4_leapfrog.jl update_derivs_vel!                         26\n",
        "     4 ...stro585\\HW4_leapfrog.jl update_derivs_vel!                         27\n",
        "     1 ...stro585\\HW4_leapfrog.jl update_derivs_vel!                         30\n",
        "     3 abstractarray.jl           checkbounds                                63\n",
        "    59 abstractarray.jl           checkbounds                                74\n",
        "     2 abstractarray.jl           checkbounds                                75\n",
        "     9 abstractarray.jl           checkbounds                                95\n",
        "    27 abstractarray.jl           checkbounds                                96\n",
        "    12 abstractarray.jl           trailingsize                               54\n",
        "     1 abstractarray.jl           trailingsize                               56\n",
        "     5 array.jl                   copy!                                      48\n",
        "    12 array.jl                   copy!                                      51\n",
        "    88 array.jl                   getindex                                  342\n",
        "  2280 array.jl                   lexcmp                                   1019\n",
        "     4 array.jl                   setindex!                                 453\n",
        "    13 array.jl                   setindex!                                 454\n",
        "     4 array.jl                   setindex!                                 462\n",
        "     3 array.jl                   setindex!                                 464\n",
        "    12 array.jl                   setindex!                                 465\n",
        "     1 array.jl                   setindex!                                 469\n",
        "    17 array.jl                   unsafe_copy!                               31\n",
        "     7 array.jl                   unsafe_copy!                               38\n",
        "     1 array.jl                   unsafe_copy!                               44\n",
        "    27 deepcopy.jl                _deepcopy_array_t                          52\n",
        "    14 deepcopy.jl                _deepcopy_array_t                          53\n",
        "    44 deepcopy.jl                _deepcopy_array_t                          55\n",
        "    60 deepcopy.jl                deepcopy_internal                          45\n",
        "     6 deepcopy.jl                deepcopy_internal                          46\n",
        "    25 deepcopy.jl                deepcopy_internal                          48\n",
        "     4 int.jl                     <                                         227\n",
        "     3 operators.jl               >                                          19\n",
        "    77 profile.jl                 anonymous                                   4\n",
        "     2 profile.jl                 anonymous                                  14\n",
        "     1 profile.jl                 lookup                                     91\n",
        "    10 range.jl                   Range1                                     27\n",
        "     3 range.jl                   Range1                                     28\n",
        "    47 range.jl                   colon                                      38\n",
        "     9 range.jl                   minimum                                   100\n",
        "     4 reflection.jl              isbits                                     36\n"
       ]
      }
     ],
     "prompt_number": 21
    },
    {
     "cell_type": "code",
     "collapsed": false,
     "input": [
      "Profile.clear()\n",
      "@profile (for i in 1:100; integrate_leapfrog_student([1.0,0.0,0.0,1.0],.01,100.00); end;)\n",
      "Profile.print(format =: flat)"
     ],
     "language": "python",
     "metadata": {},
     "outputs": [
      {
       "output_type": "stream",
       "stream": "stderr",
       "text": [
        "WARNING: "
       ]
      },
      {
       "output_type": "stream",
       "stream": "stdout",
       "text": [
        " Count"
       ]
      },
      {
       "output_type": "stream",
       "stream": "stdout",
       "text": [
        " File                       Function                                 Line\n",
        "     1 ...HW4_leapfrog_student.jl derrivatives                                2\n",
        "     1 ...HW4_leapfrog_student.jl derrivatives                                3\n",
        "     4 ...HW4_leapfrog_student.jl derrivatives                                7\n",
        "     4 ...HW4_leapfrog_student.jl integrate_leapfrog_student                 31\n",
        "     4 ...HW4_leapfrog_student.jl integrate_leapfrog_student                 32\n",
        "     3 ...HW4_leapfrog_student.jl integrate_leapfrog_student                 33\n",
        "     9 ...HW4_leapfrog_student.jl integrate_leapfrog_student                 36\n",
        "    11 ...HW4_leapfrog_student.jl integrate_leapfrog_student                 37\n",
        "    20 ...HW4_leapfrog_student.jl integrate_leapfrog_student                 38\n",
        "    11 ...HW4_leapfrog_student.jl integrate_leapfrog_student                 39\n",
        "     1 ...HW4_leapfrog_student.jl leapfrog_update_both                       18\n",
        "     6 ...HW4_leapfrog_student.jl leapfrog_update_both                       20\n",
        "     3 ...HW4_leapfrog_student.jl leapfrog_update_pos                        11\n",
        "  3208 ...HW4_leapfrog_student.jl leapfrog_update_pos                        13\n",
        "    69 abstractarray.jl           vcat                                      706\n",
        " 16209 array.jl                   lexcmp                                   1019\n",
        "     1 array.jl                   vcat                                     1161\n",
        "     9 array.jl                   vcat                                     1164\n",
        "     3 array.jl                   vcat                                     1172\n",
        "     1 array.jl                   vcat                                     1173\n",
        "  3196 array.jl                   vcat                                     1174\n",
        "     3 array.jl                   vcat                                     1178\n",
        "    13 profile.jl                 anonymous                                   2\n",
        "     2 range.jl                   Range1                                     27\n",
        "     1 range.jl                   Range1                                     28\n",
        "    12 range.jl                   colon                                      38\n"
       ]
      },
      {
       "output_type": "stream",
       "stream": "stderr",
       "text": [
        "the profile data buffer is full; profiling probably terminated\n",
        "before your program finished. To profile for longer runs, call Profile.init()\n",
        "with a larger buffer and/or larger delay.\n"
       ]
      }
     ],
     "prompt_number": 22
    },
    {
     "cell_type": "markdown",
     "metadata": {},
     "source": [
      "# 1.D \n",
      "In both, it appears to be spending most of its time in array.jl, however, that is counted every thime an array is called or something is placed in. In the first code, this isn't a problem, and most of the time is spent where I believed it would be spent. In the second it spends most of its time updating the position, and apparently reading into the array here has begun to cause issues. \n",
      "\n",
      "# 1.E\n",
      "I don't know that the first program can be much improved. But the second one keeps concatonating files. It calls the array an ernormous amount of times. Changing to a presized 4-by-X array and having the outs read into it will be faster. "
     ]
    },
    {
     "cell_type": "code",
     "collapsed": false,
     "input": [
      "include(\"HW4_leapfrog_student.jl\")\n",
      "Profile.clear()\n",
      "@profile (for i in 1:100; integrate_leapfrog_student([1.0,0.0,0.0,1.0],.01,100.00); end;)\n",
      "Profile.print(format =: flat)"
     ],
     "language": "python",
     "metadata": {},
     "outputs": [
      {
       "output_type": "stream",
       "stream": "stderr",
       "text": [
        "WARNING: "
       ]
      },
      {
       "output_type": "stream",
       "stream": "stderr",
       "text": [
        "the profile data buffer is full; profiling probably terminated\n",
        "before your program finished. To profile for longer runs, call Profile.init()\n",
        "with a larger buffer and/or larger delay.\n"
       ]
      },
      {
       "output_type": "stream",
       "stream": "stdout",
       "text": [
        " Count"
       ]
      },
      {
       "output_type": "stream",
       "stream": "stdout",
       "text": [
        " File                       Function                                 Line\n",
        "     1 ...HW4_leapfrog_student.jl derrivatives                                2\n",
        "     1 ...HW4_leapfrog_student.jl derrivatives                                3\n",
        "  2191 ...HW4_leapfrog_student.jl derrivatives                                7\n",
        "     2 ...HW4_leapfrog_student.jl integrate_leapfrog_student                 29\n",
        "     3 ...HW4_leapfrog_student.jl integrate_leapfrog_student                 32\n",
        "     6 ...HW4_leapfrog_student.jl integrate_leapfrog_student                 33\n",
        "     3 ...HW4_leapfrog_student.jl integrate_leapfrog_student                 34\n",
        "     3 ...HW4_leapfrog_student.jl integrate_leapfrog_student                 37\n",
        "     7 ...HW4_leapfrog_student.jl integrate_leapfrog_student                 38\n",
        "    11 ...HW4_leapfrog_student.jl integrate_leapfrog_student                 39\n",
        "    11 ...HW4_leapfrog_student.jl integrate_leapfrog_student                 40\n",
        "     2 ...HW4_leapfrog_student.jl leapfrog_update_both                       19\n",
        "     1 ...HW4_leapfrog_student.jl leapfrog_update_both                       20\n",
        "     7 ...HW4_leapfrog_student.jl leapfrog_update_both                       21\n",
        "     2 ...HW4_leapfrog_student.jl leapfrog_update_pos                        11\n",
        "    43 abstractarray.jl           vcat                                      706\n",
        " 11678 array.jl                   lexcmp                                   1019\n",
        "     2 array.jl                   vcat                                     1160\n",
        "     2 array.jl                   vcat                                     1161\n",
        "     8 array.jl                   vcat                                     1164\n",
        "     1 array.jl                   vcat                                     1165\n",
        "     2 array.jl                   vcat                                     1172\n",
        "     1 array.jl                   vcat                                     1173\n",
        "  2452 array.jl                   vcat                                     1174\n",
        "     1 dict.jl                    getindex                                  136\n",
        "     1 inference.jl               _iisconst                                  62\n",
        "     1 inference.jl               abstract_call_gf                          621\n",
        "     1 inference.jl               abstract_eval_call                        755\n",
        "     1 inference.jl               abstract_eval_call                        760\n",
        "     2 inference.jl               abstract_eval_call                        777\n",
        "     1 inference.jl               find_sa_vars                             2180\n",
        "     1 inference.jl               inlineable                               1908\n",
        "     1 inference.jl               is_known_call                            2117\n",
        "     1 inference.jl               isconstantfunc                            487\n",
        "     1 inference.jl               stupdate                                 1042\n",
        "     1 inference.jl               tchanged                                  976\n",
        "     1 inference.jl               tuple_elim_pass                          2242\n",
        "     2 inference.jl               typeinf                                  1167\n",
        "     1 inference.jl               typeinf                                  1194\n",
        "     7 inference.jl               typeinf                                  1257\n",
        "     1 inference.jl               typeinf                                  1294\n",
        "     3 inference.jl               typeinf                                  1322\n",
        "     7 inference.jl               typeinf                                  1364\n",
        "     1 inference.jl               typeinf                                  1383\n",
        "     3 inference.jl               typeinf                                  1385\n",
        "    14 profile.jl                 anonymous                                   3\n",
        "     8 range.jl                   colon                                      38\n"
       ]
      }
     ],
     "prompt_number": 5
    },
    {
     "cell_type": "code",
     "collapsed": false,
     "input": [
      "include(\"HW4_leapfrog.jl\")\n",
      "Profile.clear()\n",
      "check = @elapsed(@profile (for i in 1:5; integrate_leapfrog!([1.0,0.0,0.0,1.0],.01,100.00); end;))\n",
      "Profile.print(format =: flat)\n",
      "println(check)"
     ],
     "language": "python",
     "metadata": {},
     "outputs": [
      {
       "output_type": "stream",
       "stream": "stdout",
       "text": [
        " Count"
       ]
      },
      {
       "output_type": "stream",
       "stream": "stdout",
       "text": [
        " File                       Function                                 Line\n",
        "     1 ...stro585\\HW4_leapfrog.jl advance_leapfrog!                          46\n",
        "     3 ...stro585\\HW4_leapfrog.jl advance_leapfrog!                          51\n",
        "     3 ...stro585\\HW4_leapfrog.jl advance_leapfrog!                          52\n",
        "     8 ...stro585\\HW4_leapfrog.jl advance_leapfrog!                          53\n",
        "     2 ...stro585\\HW4_leapfrog.jl advance_leapfrog!                          55\n",
        "     8 ...stro585\\HW4_leapfrog.jl integrate_leapfrog!                        87\n",
        "     3 ...stro585\\HW4_leapfrog.jl integrate_leapfrog!                        94\n",
        "    10 ...stro585\\HW4_leapfrog.jl integrate_leapfrog!                        95\n",
        "     1 ...stro585\\HW4_leapfrog.jl update_derivs_vel!                         23\n",
        "     1 ...stro585\\HW4_leapfrog.jl update_derivs_vel!                         25\n",
        "     1 abstractarray.jl           checkbounds                                74\n",
        "     1 array.jl                   copy!                                      51\n",
        "     3 array.jl                   getindex                                  342\n",
        "   140 array.jl                   lexcmp                                   1019\n",
        "     2 array.jl                   setindex!                                 454\n",
        "     1 array.jl                   setindex!                                 465\n",
        "     3 array.jl                   unsafe_copy!                               31\n",
        "     2 array.jl                   unsafe_copy!                               38\n",
        "     1 deepcopy.jl                _deepcopy_array_t                          52\n",
        "     1 deepcopy.jl                _deepcopy_array_t                          55\n",
        "     1 deepcopy.jl                deepcopy_internal                          45\n",
        "     1 inference.jl               abstract_eval_arg                         748\n",
        "     3 inference.jl               abstract_eval_call                        755\n",
        "     1 inference.jl               abstract_eval_call                        777\n",
        "     1 inference.jl               is_known_call                            2118\n",
        "     1 inference.jl               occurs_outside_tupleref                  2213\n",
        "     1 inference.jl               tuple_elim_pass                          2256\n",
        "     2 inference.jl               typeinf                                  1257\n",
        "     1 inference.jl               typeinf                                  1383\n",
        "     1 range.jl                   colon                                      38\n",
        "     1 reflection.jl              isbits                                     36\n",
        "     6 util.jl                    anonymous                                   3\n",
        "0.418869897\n"
       ]
      }
     ],
     "prompt_number": 15
    },
    {
     "cell_type": "code",
     "collapsed": false,
     "input": [
      "include(\"HW4_leapfrog_student.jl\")\n",
      "Profile.clear()\n",
      "check = @elapsed(@profile (for i in 1:5; integrate_leapfrog_student([1.0,0.0,0.0,1.0],.01,100.00); end;))\n",
      "Profile.print(format =: flat)\n",
      "println(check)"
     ],
     "language": "python",
     "metadata": {},
     "outputs": [
      {
       "output_type": "stream",
       "stream": "stdout",
       "text": [
        " Count"
       ]
      },
      {
       "output_type": "stream",
       "stream": "stdout",
       "text": [
        " File                       Function                                 Line\n",
        "     1 ...HW4_leapfrog_student.jl derrivatives                                3\n",
        "     5 ...HW4_leapfrog_student.jl derrivatives                                7\n",
        "     1 ...HW4_leapfrog_student.jl integrate_leapfrog_student                 28\n",
        "  2217 ...HW4_leapfrog_student.jl integrate_leapfrog_student                 31\n",
        "    12 ...HW4_leapfrog_student.jl integrate_leapfrog_student                 32\n",
        "    10 ...HW4_leapfrog_student.jl integrate_leapfrog_student                 33\n",
        "   745 ...HW4_leapfrog_student.jl integrate_leapfrog_student                 36\n",
        "  3114 ...HW4_leapfrog_student.jl integrate_leapfrog_student                 37\n",
        "  2905 ...HW4_leapfrog_student.jl integrate_leapfrog_student                 38\n",
        "  3092 ...HW4_leapfrog_student.jl integrate_leapfrog_student                 39\n",
        "     1 ...HW4_leapfrog_student.jl leapfrog_update_both                       18\n",
        "     9 ...HW4_leapfrog_student.jl leapfrog_update_both                       20\n",
        "  2216 ...HW4_leapfrog_student.jl leapfrog_update_pos                        13\n",
        "    54 abstractarray.jl           vcat                                      706\n",
        " 12100 array.jl                   lexcmp                                   1019\n",
        "     2 array.jl                   vcat                                     1160\n",
        "     4 array.jl                   vcat                                     1164\n",
        "  2878 array.jl                   vcat                                     1174\n",
        "     1 array.jl                   vcat                                     1178\n",
        "     2 range.jl                   Range1                                     27\n",
        "     1 range.jl                   Range1                                     28\n",
        "     8 range.jl                   colon                                      38\n",
        "    12 util.jl                    anonymous                                   3\n",
        "39.300605909\n"
       ]
      }
     ],
     "prompt_number": 12
    },
    {
     "cell_type": "code",
     "collapsed": false,
     "input": [
      "include(\"HW4_leapfrog_student_new.jl\")\n",
      "Profile.clear()\n",
      "check = @elapsed(@profile (for i in 1:5; integrate_leapfrog_student_new([1.0,0.0,0.0,1.0],.01,100.00); end;))\n",
      "Profile.print(format =: flat)\n",
      "println(check)"
     ],
     "language": "python",
     "metadata": {},
     "outputs": [
      {
       "output_type": "stream",
       "stream": "stdout",
       "text": [
        " Count"
       ]
      },
      {
       "output_type": "stream",
       "stream": "stdout",
       "text": [
        " File                       Function                                 Line\n",
        "    26 ...leapfrog_student_new.jl derrivatives                                7\n",
        "    27 ...leapfrog_student_new.jl integrate_leapfrog_student_new             37\n",
        "     6 ...leapfrog_student_new.jl integrate_leapfrog_student_new             38\n",
        "     5 ...leapfrog_student_new.jl integrate_leapfrog_student_new             41\n",
        "     1 ...leapfrog_student_new.jl integrate_leapfrog_student_new             42\n",
        "    26 ...leapfrog_student_new.jl integrate_leapfrog_student_new             43\n",
        "     2 ...leapfrog_student_new.jl integrate_leapfrog_student_new             44\n",
        "     6 ...leapfrog_student_new.jl leapfrog_update_both                       21\n",
        "    10 abstractarray.jl           vcat                                      706\n",
        "    68 array.jl                   lexcmp                                   1019\n",
        "    35 util.jl                    anonymous                                   3\n",
        "0.175919036\n"
       ]
      }
     ],
     "prompt_number": 18
    },
    {
     "cell_type": "markdown",
     "metadata": {},
     "source": [
      "# 1.F 1.G\n",
      "The code still gives the same answer, since I didn't actually change any of the calculations, just where it gets put at the end. In order to run the profile I orginally had to drop the number of runs to 5. and it took 39 s. Chaning to a presized array and filling it in drops the run of 5 to .17s. This is a VAST improvement. "
     ]
    },
    {
     "cell_type": "code",
     "collapsed": false,
     "input": [
      "function normal_pdf(x)\n",
      "    return exp(-0.5*x.*x)/sqrt(2*pi)\n",
      "end"
     ],
     "language": "python",
     "metadata": {},
     "outputs": [
      {
       "metadata": {},
       "output_type": "pyout",
       "prompt_number": 26,
       "text": [
        "normal_pdf (generic function with 1 method)"
       ]
      }
     ],
     "prompt_number": 26
    },
    {
     "cell_type": "markdown",
     "metadata": {},
     "source": [
      "# 2.B\n",
      "Using a for loop"
     ]
    },
    {
     "cell_type": "code",
     "collapsed": false,
     "input": [
      "##2.b##\n",
      "#integrate the function using a for loop#\n",
      "\n",
      "function trapezoid_for(func, min, max, steps=10000)\n",
      "    #inputs - func - a single variable function to be integrated min- integration minimum max-integration maximum\n",
      "    #steps, optional number of steps the integral is broken into. preset to 10^4\n",
      "    #outputs result - trapezoid integral of function func \n",
      "        \n",
      "    stepsize = abs(max-min)/(steps-1)\n",
      "    range = linspace(min,max,steps)\n",
      "        sum = 0\n",
      "        for i in 1:(steps-1)\n",
      "        sum = sum+((func(range[i])+func(range[i+1]))/2)*stepsize\n",
      "        end\n",
      "    \n",
      "    \n",
      "    if max>min\n",
      "        sum = sum\n",
      "    else\n",
      "        sum = -sum\n",
      "    end\n",
      "\n",
      "    println(sum)\n",
      "    return sum\n",
      "end\n",
      "            \n",
      "        "
     ],
     "language": "python",
     "metadata": {},
     "outputs": [
      {
       "metadata": {},
       "output_type": "pyout",
       "prompt_number": 14,
       "text": [
        "trapezoid_for (generic function with 2 methods)"
       ]
      }
     ],
     "prompt_number": 14
    },
    {
     "cell_type": "code",
     "collapsed": false,
     "input": [
      "@elapsed integral = trapezoid_for(normal_pdf,-10,10)\n"
     ],
     "language": "python",
     "metadata": {},
     "outputs": [
      {
       "output_type": "stream",
       "stream": "stdout",
       "text": [
        "0."
       ]
      },
      {
       "output_type": "stream",
       "stream": "stdout",
       "text": [
        "9999999999999991\n"
       ]
      },
      {
       "metadata": {},
       "output_type": "pyout",
       "prompt_number": 130,
       "text": [
        "0.079687032"
       ]
      }
     ],
     "prompt_number": 130
    },
    {
     "cell_type": "code",
     "collapsed": false,
     "input": [
      "@elapsed integral8 = trapezoid_for(normal_pdf,-10,10,10^8)"
     ],
     "language": "python",
     "metadata": {},
     "outputs": [
      {
       "output_type": "stream",
       "stream": "stdout",
       "text": [
        "0."
       ]
      },
      {
       "output_type": "stream",
       "stream": "stdout",
       "text": [
        "9999999999713977\n"
       ]
      },
      {
       "metadata": {},
       "output_type": "pyout",
       "prompt_number": 131,
       "text": [
        "98.579842754"
       ]
      }
     ],
     "prompt_number": 131
    },
    {
     "cell_type": "markdown",
     "metadata": {},
     "source": [
      "This is a sinple trepzoid rule which uses a for loop to evauluate functions. We are getting 10^-14 to 10^-11 precision.Going to higher order makes it less accurate and takes 10^4 more time. \n",
      "\n",
      "# 2.c\n"
     ]
    },
    {
     "cell_type": "code",
     "collapsed": false,
     "input": [
      "##2.c##\n",
      "#integrate the function using vector notation\n",
      "function trapezoid_vec(func, min, max, steps=10000)\n",
      "    #inputs - func - a single variable function to be integrated min- integration minimum max-integration maximum\n",
      "    #steps, optional number of steps the integral is broken into. preset to 10^4\n",
      "    #outputs result - trapezoid integral of function func \n",
      "    stepsize = abs(max-min)/(steps-1)\n",
      "    range = linspace(min,max,steps)\n",
      "    int_step = func(range)\n",
      "    int_step[2:steps-1]*=2\n",
      "    full = sum(int_step)\n",
      "    result = full*stepsize/2\n",
      "    \n",
      "    if max>min\n",
      "        result = result\n",
      "    else\n",
      "        result = -result\n",
      "    end\n",
      "    return result\n",
      "end"
     ],
     "language": "python",
     "metadata": {},
     "outputs": [
      {
       "metadata": {},
       "output_type": "pyout",
       "prompt_number": 37,
       "text": [
        "trapezoid_vec (generic function with 2 methods)"
       ]
      }
     ],
     "prompt_number": 37
    },
    {
     "cell_type": "code",
     "collapsed": false,
     "input": [
      "@elapsed vecintegral = trapezoid_vec(normal_pdf,-10,10)"
     ],
     "language": "python",
     "metadata": {},
     "outputs": [
      {
       "output_type": "stream",
       "stream": "stdout",
       "text": [
        "1"
       ]
      },
      {
       "output_type": "stream",
       "stream": "stdout",
       "text": [
        ".0\n"
       ]
      },
      {
       "metadata": {},
       "output_type": "pyout",
       "prompt_number": 125,
       "text": [
        "0.0369158"
       ]
      }
     ],
     "prompt_number": 125
    },
    {
     "cell_type": "code",
     "collapsed": false,
     "input": [
      "@elapsed vecintegral8 = trapezoid_vec(normal_pdf,-10,10,10^7)"
     ],
     "language": "python",
     "metadata": {},
     "outputs": [
      {
       "output_type": "stream",
       "stream": "stdout",
       "text": [
        "1"
       ]
      },
      {
       "output_type": "stream",
       "stream": "stdout",
       "text": [
        ".0000000000000002\n"
       ]
      },
      {
       "metadata": {},
       "output_type": "pyout",
       "prompt_number": 126,
       "text": [
        "2.218700663"
       ]
      }
     ],
     "prompt_number": 126
    },
    {
     "cell_type": "code",
     "collapsed": false,
     "input": [
      "1-vecintegral8"
     ],
     "language": "python",
     "metadata": {},
     "outputs": [
      {
       "metadata": {},
       "output_type": "pyout",
       "prompt_number": 132,
       "text": [
        "-2.220446049250313e-16"
       ]
      }
     ],
     "prompt_number": 132
    },
    {
     "cell_type": "markdown",
     "metadata": {},
     "source": [
      "Here the result is \"perfect\" when evaluating over 10^4 steps  and has a 10^-16 precision when evaluating over 10^7 steps. Attempting 10^8 gave a memory error. Not sure what happened. Here, scaling up 3 orders of magnitude only took approx 2.5 orders more in time. However, the initial test with 10^4 steps was an order of magnitude faster than a 4 loop, and \"more precise\" (the rounding is weird)\n",
      "\n",
      "# 2.D\n"
     ]
    },
    {
     "cell_type": "code",
     "collapsed": false,
     "input": [
      "##2.d##\n",
      "#integrate the function using map and reduce\n",
      "function trapezoid_map(func, min, max, steps=10000)\n",
      "     #inputs - func - a single variable function to be integrated min- integration minimum max-integration maximum\n",
      "    #steps, optional number of steps the integral is broken into. preset to 10^4\n",
      "    #outputs result - trapezoid integral of function func \n",
      "    stepsize = abs(max-min)/(steps-1)\n",
      "    range = linspace(min,max,steps)\n",
      "    int_step = map(func,range)\n",
      "    int_step_2 = map((x)-> x*2,int_step)\n",
      "    full = reduce(+,int_step_2)\n",
      "    result = (full-int_step[1]-int_step[steps])*stepsize/2\n",
      "    \n",
      "    if max>min\n",
      "        result = result\n",
      "    else\n",
      "        result = -result\n",
      "    end\n",
      "    println(result)\n",
      "    return result\n",
      "end"
     ],
     "language": "python",
     "metadata": {},
     "outputs": [
      {
       "metadata": {},
       "output_type": "pyout",
       "prompt_number": 16,
       "text": [
        "trapezoid_map (generic function with 2 methods)"
       ]
      }
     ],
     "prompt_number": 16
    },
    {
     "cell_type": "code",
     "collapsed": false,
     "input": [
      "@elapsed mapintegral = trapezoid_map(normal_pdf,-10,10)"
     ],
     "language": "python",
     "metadata": {},
     "outputs": [
      {
       "output_type": "stream",
       "stream": "stdout",
       "text": [
        "1"
       ]
      },
      {
       "output_type": "stream",
       "stream": "stdout",
       "text": [
        ".0\n"
       ]
      },
      {
       "metadata": {},
       "output_type": "pyout",
       "prompt_number": 146,
       "text": [
        "0.028646971"
       ]
      }
     ],
     "prompt_number": 146
    },
    {
     "cell_type": "code",
     "collapsed": false,
     "input": [
      "@elapsed mapintegral8 = trapezoid_map(normal_pdf,-10,10,10^7)"
     ],
     "language": "python",
     "metadata": {},
     "outputs": [
      {
       "output_type": "stream",
       "stream": "stdout",
       "text": [
        "1"
       ]
      },
      {
       "output_type": "stream",
       "stream": "stdout",
       "text": [
        ".0000000000000002\n"
       ]
      },
      {
       "metadata": {},
       "output_type": "pyout",
       "prompt_number": 151,
       "text": [
        "4.81787174"
       ]
      }
     ],
     "prompt_number": 151
    },
    {
     "cell_type": "markdown",
     "metadata": {},
     "source": [
      "The result is the same as vector, taking the same amount of time and with the same results. \n",
      "\n",
      "# 2.e"
     ]
    },
    {
     "cell_type": "code",
     "collapsed": false,
     "input": [
      "##2.E##\n",
      "#integrate the function using mapreduce\n",
      "\n",
      "function trapezoid_mr(func, min, max, steps=10000)\n",
      "     #inputs - func - a single variable function to be integrated min- integration minimum max-integration maximum\n",
      "    #steps, optional number of steps the integral is broken into. preset to 10^4\n",
      "    #outputs result - trapezoid integral of function func \n",
      "    stepsize = abs(max-min)/(steps-1)\n",
      "    range = linspace(min,max,steps)\n",
      "    int_step = map(func,range)\n",
      "    reds = mapreduce((x)-> x*2,+,int_step)\n",
      "    result = (reds-int_step[1]-int_step[steps])*stepsize/2\n",
      "    \n",
      "    if max>min\n",
      "        result = result\n",
      "    else\n",
      "        result = -result\n",
      "    end\n",
      "    println(result)\n",
      "    return result\n",
      "end"
     ],
     "language": "python",
     "metadata": {},
     "outputs": [
      {
       "metadata": {},
       "output_type": "pyout",
       "prompt_number": 17,
       "text": [
        "trapezoid_mr (generic function with 2 methods)"
       ]
      }
     ],
     "prompt_number": 17
    },
    {
     "cell_type": "code",
     "collapsed": false,
     "input": [
      "@elapsed mrintegral = trapezoid_mr(normal_pdf,-10,10)"
     ],
     "language": "python",
     "metadata": {},
     "outputs": [
      {
       "output_type": "stream",
       "stream": "stdout",
       "text": [
        "1"
       ]
      },
      {
       "output_type": "stream",
       "stream": "stdout",
       "text": [
        ".0\n"
       ]
      },
      {
       "metadata": {},
       "output_type": "pyout",
       "prompt_number": 159,
       "text": [
        "0.024143176"
       ]
      }
     ],
     "prompt_number": 159
    },
    {
     "cell_type": "code",
     "collapsed": false,
     "input": [
      "@elapsed mrintegral = trapezoid_mr(normal_pdf,-10,10,10^7)"
     ],
     "language": "python",
     "metadata": {},
     "outputs": [
      {
       "output_type": "stream",
       "stream": "stdout",
       "text": [
        "1"
       ]
      },
      {
       "output_type": "stream",
       "stream": "stdout",
       "text": [
        ".0000000000000002\n"
       ]
      },
      {
       "metadata": {},
       "output_type": "pyout",
       "prompt_number": 161,
       "text": [
        "3.649867358"
       ]
      }
     ],
     "prompt_number": 161
    },
    {
     "cell_type": "markdown",
     "metadata": {},
     "source": [
      "Again the same results, but faster than map and reduce. Still not faster than vector notation.\n",
      "\n",
      "# 2.f Devectorize"
     ]
    },
    {
     "cell_type": "code",
     "collapsed": false,
     "input": [
      "using Devectorize\n",
      "\n",
      "function trap_devec_pdf(min, max, steps=10000)\n",
      "    #inputs - func - a single variable function to be integrated min- integration minimum max-integration maximum\n",
      "    #steps, optional number of steps the integral is broken into. preset to 10^4\n",
      "    #outputs result - trapezoid integral of function func \n",
      "        \n",
      "    stepsize = abs(max-min)/(steps-1)\n",
      "    range = linspace(min,max,steps)    \n",
      "    minval = exp(-0.5*min^2)/sqrt(2*pi)\n",
      "    maxval = exp(-0.5*max^2)/sqrt(2*pi)\n",
      "    @devec values = 2.*exp(-0.5.*range.^2)./sqrt(2.*pi)\n",
      "    \n",
      "    integral = (sum(values)-minval-maxval)*stepsize/2\n",
      "    \n",
      "    return integral\n",
      "end"
     ],
     "language": "python",
     "metadata": {},
     "outputs": [
      {
       "metadata": {},
       "output_type": "pyout",
       "prompt_number": 22,
       "text": [
        "trap_devec_pdf (generic function with 2 methods)"
       ]
      }
     ],
     "prompt_number": 22
    },
    {
     "cell_type": "code",
     "collapsed": false,
     "input": [
      "@elapsed dvintegral = trap_devec_pdf(-10,10)"
     ],
     "language": "python",
     "metadata": {},
     "outputs": [
      {
       "output_type": "stream",
       "stream": "stdout",
       "text": [
        "1"
       ]
      },
      {
       "output_type": "stream",
       "stream": "stdout",
       "text": [
        ".0\n"
       ]
      },
      {
       "metadata": {},
       "output_type": "pyout",
       "prompt_number": 11,
       "text": [
        "0.105465572"
       ]
      }
     ],
     "prompt_number": 11
    },
    {
     "cell_type": "code",
     "collapsed": false,
     "input": [
      "@elapsed dvintegral = trap_devec_pdf(-10,10,10^8)"
     ],
     "language": "python",
     "metadata": {},
     "outputs": [
      {
       "output_type": "stream",
       "stream": "stdout",
       "text": [
        "1"
       ]
      },
      {
       "output_type": "stream",
       "stream": "stdout",
       "text": [
        ".0\n"
       ]
      },
      {
       "metadata": {},
       "output_type": "pyout",
       "prompt_number": 13,
       "text": [
        "6.898761427"
       ]
      }
     ],
     "prompt_number": 13
    },
    {
     "cell_type": "markdown",
     "metadata": {},
     "source": [
      "Not efficient when considering only 10^4, but for 10^8, it is very efficient and gives the right answer. "
     ]
    },
    {
     "cell_type": "markdown",
     "metadata": {},
     "source": [
      "# 2.H Profiling\n",
      "\n",
      "I will profile vector and devec, as they were the fastest"
     ]
    },
    {
     "cell_type": "code",
     "collapsed": false,
     "input": [
      "Profile.clear()\n",
      "@profile (for i in 1:100; trapezoid_vec(normal_pdf,-10,10); end;)\n",
      "Profile.print(format =: flat)"
     ],
     "language": "python",
     "metadata": {},
     "outputs": [
      {
       "output_type": "stream",
       "stream": "stdout",
       "text": [
        " Count"
       ]
      },
      {
       "output_type": "stream",
       "stream": "stdout",
       "text": [
        " File             Function                 Line\n",
        "    10 In[24]           trapezoid_vec               8\n",
        "    34 In[26]           normal_pdf                  2\n",
        "     1 abstractarray.jl *                         340\n",
        "     2 array.jl         .*                        135\n",
        "     2 array.jl         ./                        135\n",
        "     1 array.jl         append!                   676\n",
        "    10 array.jl         lexcmp                   1019\n",
        "     2 array.jl         linspace                  237\n",
        "     8 array.jl         linspace                  238\n",
        "     3 base.jl          append_any                110\n",
        "     1 broadcast.jl     ##*_inner!#339            136\n",
        "     7 broadcast.jl     ##*_inner!#339            166\n",
        "     1 broadcast.jl     code_inner_loop           106\n",
        "     8 broadcast.jl     code_inner_loop           112\n",
        "     9 broadcast.jl     code_inner_loop           113\n",
        "     3 broadcast.jl     code_inner_loop           114\n",
        "     1 dict.jl          setindex!                 155\n",
        "     1 dict.jl          setindex!                 156\n",
        "     2 inference.jl     abstract_call_gf          611\n",
        "   150 inference.jl     abstract_call_gf          621\n",
        "     8 inference.jl     abstract_eval_call        755\n",
        "   104 inference.jl     abstract_eval_call        777\n",
        "     2 inference.jl     contains_is                48\n",
        "     1 inference.jl     find_sa_vars             2183\n",
        "     2 inference.jl     getindex                  948\n",
        "     1 inference.jl     inlineable               1729\n",
        "     3 inference.jl     inlineable               1770\n",
        "     4 inference.jl     inlineable               1824\n",
        "     2 inference.jl     inlineable               1830\n",
        "     1 inference.jl     inlineable               1834\n",
        "     1 inference.jl     inlineable               1840\n",
        "     1 inference.jl     inlineable               1882\n",
        "     1 inference.jl     isconstantfunc            455\n",
        "     1 inference.jl     occurs_outside_tupleref  2208\n",
        "     1 inference.jl     stupdate                 1041\n",
        "     1 inference.jl     stupdate                 1043\n",
        "     2 inference.jl     stupdate                 1045\n",
        "     1 inference.jl     tchanged                  976\n",
        "     1 inference.jl     tmerge                   1015\n",
        "     1 inference.jl     tuple_elim_pass          2242\n",
        "     4 inference.jl     tuple_elim_pass          2256\n",
        "   125 inference.jl     typeinf                  1257\n",
        "     1 inference.jl     typeinf                  1288\n",
        "     3 inference.jl     typeinf                  1294\n",
        "   150 inference.jl     typeinf                  1322\n",
        "     1 inference.jl     typeinf                  1362\n",
        "    22 inference.jl     typeinf                  1364\n",
        "     1 inference.jl     typeinf                  1377\n",
        "     5 inference.jl     typeinf                  1383\n",
        "     7 inference.jl     typeinf                  1385\n",
        "     3 operators.jl     exp                       236\n",
        "     1 reflection.jl    _methods                   80\n"
       ]
      }
     ],
     "prompt_number": 28
    },
    {
     "cell_type": "code",
     "collapsed": false,
     "input": [
      "Profile.clear()\n",
      "@profile (for i in 1:100; dvintegral = trap_devec_pdf(-10,10); end;)\n",
      "Profile.print(format =: flat)"
     ],
     "language": "python",
     "metadata": {},
     "outputs": [
      {
       "output_type": "stream",
       "stream": "stdout",
       "text": [
        " Count"
       ]
      },
      {
       "output_type": "stream",
       "stream": "stdout",
       "text": [
        " File             Function        Line\n",
        "     9 In[22]           trap_devec_pdf     9\n",
        "    10 In[22]           trap_devec_pdf    12\n",
        "     1 In[22]           trap_devec_pdf    14\n",
        "     1 abstractarray.jl sum             1487\n",
        "     1 abstractarray.jl sum_pairwise    1475\n",
        "     1 abstractarray.jl sum_pairwise    1481\n",
        "    37 array.jl         lexcmp          1019\n",
        "     2 array.jl         linspace         237\n",
        "     7 array.jl         linspace         238\n",
        "    27 profile.jl       anonymous          2\n"
       ]
      }
     ],
     "prompt_number": 27
    },
    {
     "cell_type": "markdown",
     "metadata": {},
     "source": [
      "In the vector array, all the time seems to be going to a function called inference.jl, which seems to be created to fix a problem in creating arrays? I'm not sure. However, it would seem to indicate that all the work is in creating the vector, and everything else is easy. This is sort of similar to the student code in problem 1, where all the effort wa sin reconcatonating the array. The difference is that here the vector must be created to be worked on. Not sure how to make it much more compact though.\n",
      "\n",
      "Similarly, all the effort in the devec program goes to making an array. However, much less time is spent doing this, which probably explains why it is faster. \n",
      "\n",
      "In this, I think the secret is in not going crazy with array size, balancing size with computation time/space."
     ]
    },
    {
     "cell_type": "code",
     "collapsed": false,
     "input": [
      "function simple_decay(x)\n",
      "    return 5.*x.^3.*exp(-x)\n",
      "end"
     ],
     "language": "python",
     "metadata": {},
     "outputs": [
      {
       "metadata": {},
       "output_type": "pyout",
       "prompt_number": 39,
       "text": [
        "simple_decay (generic function with 1 method)"
       ]
      }
     ],
     "prompt_number": 39
    },
    {
     "cell_type": "code",
     "collapsed": false,
     "input": [
      "vecint = @elapsed trapezoid_vec(simple_decay,0,100,10^7)\n",
      "forint = @elapsed trapezoid_for(simple_decay,0,100,10^7)\n",
      "mapint = @elapsed trapezoid_map(simple_decay,0,100,10^7)\n",
      "mrint = @elapsed trapezoid_mr(simple_decay,0,100,10^7)\n",
      "println(vecint)\n",
      "println(forint)\n",
      "println(mapint)\n",
      "println(mrint)"
     ],
     "language": "python",
     "metadata": {},
     "outputs": [
      {
       "output_type": "stream",
       "stream": "stdout",
       "text": [
        "29"
       ]
      },
      {
       "output_type": "stream",
       "stream": "stdout",
       "text": [
        ".99999999986511\n"
       ]
      },
      {
       "output_type": "stream",
       "stream": "stdout",
       "text": [
        "29.999999999999996\n"
       ]
      },
      {
       "output_type": "stream",
       "stream": "stdout",
       "text": [
        "29.999999999999996\n",
        "1.172882756\n",
        "5.195534933\n",
        "4.46263744\n",
        "3.559107742\n"
       ]
      }
     ],
     "prompt_number": 45
    },
    {
     "cell_type": "markdown",
     "metadata": {},
     "source": [
      "Again Vector is the fastest, and for loops are the slowest, with map amd mapreduce laying in between."
     ]
    },
    {
     "cell_type": "markdown",
     "metadata": {},
     "source": [
      "## Problem 3\n",
      "\n",
      "Case 1 - All three will be quick, possibly within ms of each other. However, I suspect twist2 will be faster for all positive and negative, and twist1 will be faster for the mixes. neither will be as fast as twist. I think twist3 will be slowest\n",
      "\n",
      "Case 2 For the larger group, think twist 2 will be faster for the all positive and all negative values, but twist3 will outpace twist1, again with none being as fast as twist"
     ]
    },
    {
     "cell_type": "code",
     "collapsed": false,
     "input": [
      "function triad(b::Vector, c::Vector, d::Vector)\n",
      "  assert(length(b)==length(c)==length(d))\n",
      "  a = similar(b)\n",
      "  for i in 1:length(a)\n",
      "     a[i] = b[i] + c[i] * d[i]\n",
      "  end\n",
      "  return a\n",
      "end\n",
      "\n",
      "function triad_twist1(b::Vector, c::Vector, d::Vector)\n",
      "  assert(length(b)==length(c)==length(d))\n",
      "  a = similar(b)\n",
      "  for i in 1:length(a)\n",
      "     if c[i]<0. \n",
      "       a[i] = b[i] - c[i] * d[i]\n",
      "     else \n",
      "       a[i] = b[i] + c[i] * d[i]\n",
      "     end\n",
      "  end\n",
      "  return a\n",
      "end\n",
      "\n",
      "function triad_twist2(b::Vector, c::Vector, d::Vector)\n",
      "  assert(length(b)==length(c)==length(d))\n",
      "  a = similar(b)\n",
      "  for i in 1:length(a)\n",
      "     if c[i]<0. \n",
      "       a[i] = b[i] - c[i] * d[i]\n",
      "     end\n",
      "  end\n",
      "  for i in 1:length(a)\n",
      "     if c[i]>0. \n",
      "       a[i] = b[i] + c[i] * d[i]\n",
      "     end\n",
      "  end\n",
      "  return a\n",
      "end\n",
      "\n",
      "function triad_twist3(b::Vector, c::Vector, d::Vector)\n",
      "  assert(length(b)==length(c)==length(d))\n",
      "  a = similar(b)\n",
      "  for i in 1:length(a)\n",
      "     cc = abs(c[i])\n",
      "     a[i] = b[i] + cc * d[i]\n",
      "  end\n",
      "  return a\n",
      "end\n"
     ],
     "language": "python",
     "metadata": {},
     "outputs": [
      {
       "metadata": {},
       "output_type": "pyout",
       "prompt_number": 46,
       "text": [
        "triad_twist3 (generic function with 1 method)"
       ]
      }
     ],
     "prompt_number": 46
    },
    {
     "cell_type": "markdown",
     "metadata": {},
     "source": [
      "##TESTING\n",
      "# 10^3\n",
      "Case 1 - 50/50 pos neg"
     ]
    },
    {
     "cell_type": "code",
     "collapsed": false,
     "input": [
      "b = [randn(10^3)]\n",
      "c = [randn(10^3)]\n",
      "d = [randn(10^3)]\n",
      "@time triad(b,c,d)\n",
      "@time triad_twist1(b,c,d)\n",
      "@time triad_twist2(b,c,d)\n",
      "@time triad_twist3(b,c,d)"
     ],
     "language": "python",
     "metadata": {},
     "outputs": [
      {
       "output_type": "stream",
       "stream": "stdout",
       "text": [
        "elapsed time: "
       ]
      },
      {
       "output_type": "stream",
       "stream": "stdout",
       "text": [
        "2.2714e-5 seconds (8084 bytes allocated)\n",
        "elapsed time: 0.0119842 seconds (128764 bytes allocated)\n",
        "elapsed time: 0.014444175 seconds (155080 bytes allocated)\n",
        "elapsed time: 0.012619789 seconds (87552 bytes allocated)\n"
       ]
      },
      {
       "metadata": {},
       "output_type": "pyout",
       "prompt_number": 50,
       "text": [
        "1000-element Array{Float64,1}:\n",
        " -1.43269 \n",
        "  0.148113\n",
        "  0.240352\n",
        " -1.24244 \n",
        "  0.973951\n",
        " -1.47081 \n",
        " -1.43256 \n",
        "  1.81992 \n",
        "  1.36185 \n",
        "  2.07299 \n",
        " -0.245943\n",
        "  4.63138 \n",
        " -2.45345 \n",
        "  \u22ee       \n",
        " -0.404004\n",
        "  0.311639\n",
        " -1.20476 \n",
        "  1.89802 \n",
        "  1.31046 \n",
        "  0.873535\n",
        "  0.704921\n",
        " -0.118633\n",
        "  0.621861\n",
        " -0.28296 \n",
        " -0.860469\n",
        "  1.33145 "
       ]
      }
     ],
     "prompt_number": 50
    },
    {
     "cell_type": "markdown",
     "metadata": {},
     "source": [
      "Case 2 all pos"
     ]
    },
    {
     "cell_type": "code",
     "collapsed": false,
     "input": [
      "b = [randn(10^3)]\n",
      "c = [linspace(1,10,10^3)]\n",
      "d = [randn(10^3)]\n",
      "@time triad(b,c,d)\n",
      "@time triad_twist1(b,c,d)\n",
      "@time triad_twist2(b,c,d)\n",
      "@time triad_twist3(b,c,d)"
     ],
     "language": "python",
     "metadata": {},
     "outputs": [
      {
       "output_type": "stream",
       "stream": "stdout",
       "text": [
        "elapsed time: "
       ]
      },
      {
       "output_type": "stream",
       "stream": "stdout",
       "text": [
        "2.3098e-5 seconds (8084 bytes allocated)\n",
        "elapsed time: 2.6179e-5 seconds (8084 bytes allocated)\n",
        "elapsed time: 2.3868e-5 seconds (8084 bytes allocated)\n",
        "elapsed time: 2.0789e-5 seconds (8084 bytes allocated)\n"
       ]
      },
      {
       "metadata": {},
       "output_type": "pyout",
       "prompt_number": 51,
       "text": [
        "1000-element Array{Float64,1}:\n",
        "   0.650209 \n",
        "  -0.355556 \n",
        "  -0.362279 \n",
        "  -0.793561 \n",
        "   1.91724  \n",
        "  -0.969385 \n",
        "   0.576666 \n",
        "   1.70604  \n",
        "  -0.0268891\n",
        "   1.26525  \n",
        "   2.16157  \n",
        "  -0.561316 \n",
        "  -1.3258   \n",
        "   \u22ee        \n",
        " -11.3143   \n",
        "  14.1294   \n",
        "  -5.75248  \n",
        "  -5.69996  \n",
        "  -7.10263  \n",
        "  -2.95987  \n",
        "   5.31375  \n",
        "  12.3988   \n",
        "   4.60957  \n",
        "  -0.916039 \n",
        "  23.449    \n",
        " -13.8357   "
       ]
      }
     ],
     "prompt_number": 51
    },
    {
     "cell_type": "markdown",
     "metadata": {},
     "source": [
      "Case 3 - all neg"
     ]
    },
    {
     "cell_type": "code",
     "collapsed": false,
     "input": [
      "b = [randn(10^3)]\n",
      "c = [linspace(-1,-10,10^3)]\n",
      "d = [randn(10^3)]\n",
      "@time triad(b,c,d)\n",
      "@time triad_twist1(b,c,d)\n",
      "@time triad_twist2(b,c,d)\n",
      "@time triad_twist3(b,c,d)"
     ],
     "language": "python",
     "metadata": {},
     "outputs": [
      {
       "output_type": "stream",
       "stream": "stdout",
       "text": [
        "elapsed time: "
       ]
      },
      {
       "output_type": "stream",
       "stream": "stdout",
       "text": [
        "1.8094e-5 seconds (8084 bytes allocated)\n",
        "elapsed time: 2.0404e-5 seconds (8084 bytes allocated)\n",
        "elapsed time: 2.1558e-5 seconds (8084 bytes allocated)\n",
        "elapsed time: 6.891e-5 seconds (8084 bytes allocated)\n"
       ]
      },
      {
       "metadata": {},
       "output_type": "pyout",
       "prompt_number": 55,
       "text": [
        "1000-element Array{Float64,1}:\n",
        "  -0.0315173\n",
        "  -0.219177 \n",
        "   1.22043  \n",
        "  -1.61582  \n",
        "  -1.30674  \n",
        "   1.37905  \n",
        "   0.371618 \n",
        "  -1.07712  \n",
        "  -0.54609  \n",
        "  -2.17262  \n",
        "  -2.93553  \n",
        "   0.947456 \n",
        "   1.35888  \n",
        "   \u22ee        \n",
        " -14.3824   \n",
        "   9.66524  \n",
        "   4.89706  \n",
        "   7.05822  \n",
        "   5.77701  \n",
        "  -8.97543  \n",
        "   1.35051  \n",
        " -23.2964   \n",
        "   1.27303  \n",
        "   5.63233  \n",
        "  -5.64577  \n",
        "  -6.76342  "
       ]
      }
     ],
     "prompt_number": 55
    },
    {
     "cell_type": "markdown",
     "metadata": {},
     "source": [
      "case 4 - 90 pos"
     ]
    },
    {
     "cell_type": "code",
     "collapsed": false,
     "input": [
      "b = [randn(10^3)]\n",
      "c = [linspace(-1,9,10^3)]\n",
      "d = [randn(10^3)]\n",
      "@time triad(b,c,d)\n",
      "@time triad_twist1(b,c,d)\n",
      "@time triad_twist2(b,c,d)\n",
      "@time triad_twist3(b,c,d)"
     ],
     "language": "python",
     "metadata": {},
     "outputs": [
      {
       "output_type": "stream",
       "stream": "stdout",
       "text": [
        "elapsed time: "
       ]
      },
      {
       "output_type": "stream",
       "stream": "stdout",
       "text": [
        "2.2328e-5 seconds (8084 bytes allocated)\n",
        "elapsed time: 2.7333e-5 seconds (8084 bytes allocated)\n",
        "elapsed time: 2.8488e-5 seconds (8084 bytes allocated)\n",
        "elapsed time: 3.3878e-5 seconds (8084 bytes allocated)\n"
       ]
      },
      {
       "metadata": {},
       "output_type": "pyout",
       "prompt_number": 57,
       "text": [
        "1000-element Array{Float64,1}:\n",
        "   2.96336 \n",
        "  -0.23888 \n",
        "  -1.53775 \n",
        "   0.430322\n",
        "   2.04043 \n",
        "  -0.152376\n",
        "  -0.552109\n",
        "   0.126135\n",
        "  -1.20906 \n",
        "   1.48253 \n",
        "   1.16818 \n",
        "   1.43802 \n",
        "  -1.08094 \n",
        "   \u22ee       \n",
        "  -6.93718 \n",
        "   8.80944 \n",
        " -12.0396  \n",
        "   8.15309 \n",
        "   1.01565 \n",
        "   1.60276 \n",
        "   2.91321 \n",
        " -13.5041  \n",
        "  -3.07274 \n",
        "  11.1854  \n",
        " -20.5948  \n",
        "  -8.43144 "
       ]
      }
     ],
     "prompt_number": 57
    },
    {
     "cell_type": "markdown",
     "metadata": {},
     "source": [
      "# 10^7\n",
      "case 5"
     ]
    },
    {
     "cell_type": "code",
     "collapsed": false,
     "input": [
      "b = [randn(10^7)]\n",
      "c = [rand(10^7)]\n",
      "d = [randn(10^7)]\n",
      "@time triad(b,c,d)\n",
      "@time triad_twist1(b,c,d)\n",
      "@time triad_twist2(b,c,d)\n",
      "@time triad_twist3(b,c,d)"
     ],
     "language": "python",
     "metadata": {},
     "outputs": [
      {
       "output_type": "stream",
       "stream": "stdout",
       "text": [
        "elapsed time: "
       ]
      },
      {
       "output_type": "stream",
       "stream": "stdout",
       "text": [
        "0.077079613 seconds (80000068 bytes allocated)\n",
        "elapsed time: 0.08324495 seconds (80000068 bytes allocated)\n"
       ]
      },
      {
       "output_type": "stream",
       "stream": "stdout",
       "text": [
        "elapsed time: 0.101774455 seconds (80000068 bytes allocated)\n"
       ]
      },
      {
       "output_type": "stream",
       "stream": "stdout",
       "text": [
        "elapsed time: 0.139586085 seconds (80000068 bytes allocated)\n"
       ]
      },
      {
       "metadata": {},
       "output_type": "pyout",
       "prompt_number": 58,
       "text": [
        "10000000-element Array{Float64,1}:\n",
        " -0.941898 \n",
        "  1.73355  \n",
        "  1.64873  \n",
        " -1.74062  \n",
        "  0.87712  \n",
        "  0.967137 \n",
        "  1.34156  \n",
        "  0.568609 \n",
        " -0.358623 \n",
        " -0.775888 \n",
        "  0.0689501\n",
        " -1.82312  \n",
        " -0.922691 \n",
        "  \u22ee        \n",
        " -1.92782  \n",
        " -1.05243  \n",
        " -2.53671  \n",
        "  0.161614 \n",
        "  1.0983   \n",
        "  0.0929746\n",
        "  1.35063  \n",
        "  0.381875 \n",
        "  1.60889  \n",
        "  0.777031 \n",
        " -0.542301 \n",
        " -2.0021   "
       ]
      }
     ],
     "prompt_number": 58
    },
    {
     "cell_type": "code",
     "collapsed": false,
     "input": [
      "## Case 6\n",
      "b = [randn(10^7)]\n",
      "c = [linspace(1,10,10^7)]\n",
      "d = [randn(10^7)]\n",
      "@time triad(b,c,d)\n",
      "@time triad_twist1(b,c,d)\n",
      "@time triad_twist2(b,c,d)\n",
      "@time triad_twist3(b,c,d)"
     ],
     "language": "python",
     "metadata": {},
     "outputs": [
      {
       "output_type": "stream",
       "stream": "stdout",
       "text": [
        "elapsed time: "
       ]
      },
      {
       "output_type": "stream",
       "stream": "stdout",
       "text": [
        "0.079818694 seconds (80000068 bytes allocated)\n"
       ]
      },
      {
       "output_type": "stream",
       "stream": "stdout",
       "text": [
        "elapsed time: 0.089356391 seconds (80000068 bytes allocated)\n"
       ]
      },
      {
       "output_type": "stream",
       "stream": "stdout",
       "text": [
        "elapsed time: 0.122880581 seconds (80000068 bytes allocated)\n"
       ]
      },
      {
       "output_type": "stream",
       "stream": "stdout",
       "text": [
        "elapsed time: 0.170522874 seconds (80000068 bytes allocated)\n"
       ]
      },
      {
       "metadata": {},
       "output_type": "pyout",
       "prompt_number": 69,
       "text": [
        "10000000-element Array{Float64,1}:\n",
        "  -1.47679   \n",
        "  -1.53897   \n",
        "  -0.442294  \n",
        "  -1.2223    \n",
        "   3.75886   \n",
        "   0.871003  \n",
        "   0.157772  \n",
        "   0.875988  \n",
        "   0.00305727\n",
        "  -1.35963   \n",
        "  -0.565165  \n",
        "  -2.18553   \n",
        "  -0.249244  \n",
        "   \u22ee         \n",
        "  -6.30891   \n",
        " -20.8362    \n",
        "  18.9506    \n",
        "  -4.72918   \n",
        "   3.38638   \n",
        "  -6.68455   \n",
        " -12.5505    \n",
        "  17.7356    \n",
        "  15.1912    \n",
        " -12.1457    \n",
        "   3.22647   \n",
        " -21.1177    "
       ]
      }
     ],
     "prompt_number": 69
    },
    {
     "cell_type": "code",
     "collapsed": false,
     "input": [
      "## Case 7\n",
      "b = [randn(10^7)]\n",
      "c = [linspace(-1,-10,10^7)]\n",
      "d = [randn(10^7)]\n",
      "@time triad(b,c,d)\n",
      "@time triad_twist1(b,c,d)\n",
      "@time triad_twist2(b,c,d)\n",
      "@time triad_twist3(b,c,d)"
     ],
     "language": "python",
     "metadata": {},
     "outputs": [
      {
       "output_type": "stream",
       "stream": "stdout",
       "text": [
        "elapsed time: "
       ]
      },
      {
       "output_type": "stream",
       "stream": "stdout",
       "text": [
        "0.079729764 seconds (80000068 bytes allocated)\n",
        "elapsed time: 0.086338205 seconds (80000068 bytes allocated)\n"
       ]
      },
      {
       "output_type": "stream",
       "stream": "stdout",
       "text": [
        "elapsed time: 0.095723839 seconds (80000068 bytes allocated)\n"
       ]
      },
      {
       "output_type": "stream",
       "stream": "stdout",
       "text": [
        "elapsed time: 0.139960663 seconds (80000068 bytes allocated)\n"
       ]
      },
      {
       "metadata": {},
       "output_type": "pyout",
       "prompt_number": 71,
       "text": [
        "10000000-element Array{Float64,1}:\n",
        "   1.76811 \n",
        "  -0.853008\n",
        "  -0.312432\n",
        "   0.768199\n",
        "  -2.35907 \n",
        "   0.637363\n",
        "   0.391793\n",
        "  -0.708435\n",
        "   2.40505 \n",
        "   0.108033\n",
        "   1.58694 \n",
        "   0.118399\n",
        "   2.1041  \n",
        "   \u22ee       \n",
        "   0.729224\n",
        "  29.3105  \n",
        " -11.5128  \n",
        "   2.58234 \n",
        "  -1.98738 \n",
        "  -4.06577 \n",
        "  -5.27976 \n",
        "   0.217058\n",
        "   2.48233 \n",
        "   8.49789 \n",
        " -22.936   \n",
        " -27.4353  "
       ]
      }
     ],
     "prompt_number": 71
    },
    {
     "cell_type": "code",
     "collapsed": false,
     "input": [
      "## Case 8\n",
      "b = [randn(10^7)]\n",
      "c = [linspace(-1,9,10^7)]\n",
      "d = [randn(10^7)]\n",
      "@time triad(b,c,d)\n",
      "@time triad_twist1(b,c,d)\n",
      "@time triad_twist2(b,c,d)\n",
      "@time triad_twist3(b,c,d)"
     ],
     "language": "python",
     "metadata": {},
     "outputs": [
      {
       "output_type": "stream",
       "stream": "stdout",
       "text": [
        "elapsed time: "
       ]
      },
      {
       "output_type": "stream",
       "stream": "stdout",
       "text": [
        "0.079547288 seconds (80000068 bytes allocated)\n",
        "elapsed time: 0.086358609 seconds (80000068 bytes allocated)\n"
       ]
      },
      {
       "output_type": "stream",
       "stream": "stdout",
       "text": [
        "elapsed time: 0.096287439 seconds (80000068 bytes allocated)\n"
       ]
      },
      {
       "output_type": "stream",
       "stream": "stdout",
       "text": [
        "elapsed time: 0.140933489 seconds (80000068 bytes allocated)\n"
       ]
      },
      {
       "metadata": {},
       "output_type": "pyout",
       "prompt_number": 72,
       "text": [
        "10000000-element Array{Float64,1}:\n",
        "   0.652916 \n",
        "   1.82962  \n",
        "   0.80161  \n",
        "   3.2357   \n",
        "  -0.84621  \n",
        "   0.682886 \n",
        "  -0.885014 \n",
        "  -0.0425022\n",
        "  -1.37296  \n",
        "  -1.59937  \n",
        "  -0.634356 \n",
        "   1.27484  \n",
        "  -1.39229  \n",
        "   \u22ee        \n",
        "   8.48123  \n",
        "  20.2393   \n",
        "  -7.12756  \n",
        " -10.04     \n",
        "   1.13823  \n",
        "  -4.11034  \n",
        " -16.8364   \n",
        "  -8.47116  \n",
        "  -0.707167 \n",
        "   4.56896  \n",
        "  -9.97495  \n",
        " -25.8482   "
       ]
      }
     ],
     "prompt_number": 72
    },
    {
     "cell_type": "markdown",
     "metadata": {},
     "source": [
      "##Profiling\n"
     ]
    },
    {
     "cell_type": "code",
     "collapsed": false,
     "input": [
      "b = [randn(10^7)]\n",
      "c = [linspace(-1,9,10^7)]\n",
      "d = [randn(10^7)]\n",
      "triad_twist3(b,c,d)\n",
      "Profile.clear()\n",
      "@profile (triad_twist3(b,c,d))\n",
      "Profile.print(format =: flat)"
     ],
     "language": "python",
     "metadata": {},
     "outputs": [
      {
       "output_type": "stream",
       "stream": "stdout",
       "text": [
        " Count"
       ]
      },
      {
       "output_type": "stream",
       "stream": "stdout",
       "text": [
        " File     Function      Line\n",
        "     2 In[46]   triad_twist3    42\n",
        "    40 In[46]   triad_twist3    43\n",
        "    50 In[46]   triad_twist3    44\n",
        "    92 array.jl lexcmp        1019\n"
       ]
      }
     ],
     "prompt_number": 64
    },
    {
     "cell_type": "code",
     "collapsed": false,
     "input": [
      "Profile.clear()\n",
      "@profile (triad_twist2(b,c,d))\n",
      "Profile.print(format =: flat)"
     ],
     "language": "python",
     "metadata": {},
     "outputs": [
      {
       "output_type": "stream",
       "stream": "stdout",
       "text": [
        " Count"
       ]
      },
      {
       "output_type": "stream",
       "stream": "stdout",
       "text": [
        " File     Function      Line\n",
        "     2 In[46]   triad_twist2    26\n",
        "    11 In[46]   triad_twist2    27\n",
        "     2 In[46]   triad_twist2    28\n",
        "     3 In[46]   triad_twist2    31\n",
        "     9 In[46]   triad_twist2    32\n",
        "    48 In[46]   triad_twist2    33\n",
        "     1 In[46]   triad_twist2    36\n",
        "    76 array.jl lexcmp        1019\n"
       ]
      }
     ],
     "prompt_number": 65
    },
    {
     "cell_type": "code",
     "collapsed": false,
     "input": [
      "Profile.clear()\n",
      "@profile (triad_twist1(b,c,d))\n",
      "Profile.print(format =: flat)"
     ],
     "language": "python",
     "metadata": {},
     "outputs": [
      {
       "output_type": "stream",
       "stream": "stdout",
       "text": [
        " Count"
       ]
      },
      {
       "output_type": "stream",
       "stream": "stdout",
       "text": [
        " File     Function      Line\n",
        "     1 In[46]   triad_twist1    13\n",
        "    11 In[46]   triad_twist1    14\n",
        "     6 In[46]   triad_twist1    15\n",
        "    39 In[46]   triad_twist1    17\n",
        "    57 array.jl lexcmp        1019\n"
       ]
      }
     ],
     "prompt_number": 66
    },
    {
     "cell_type": "code",
     "collapsed": false,
     "input": [
      "Profile.clear()\n",
      "@profile (triad(b,c,d))\n",
      "Profile.print(format =: flat)"
     ],
     "language": "python",
     "metadata": {},
     "outputs": [
      {
       "output_type": "stream",
       "stream": "stdout",
       "text": [
        " Count"
       ]
      },
      {
       "output_type": "stream",
       "stream": "stdout",
       "text": [
        " File     Function  Line\n",
        "     4 In[46]   triad      4\n",
        "    51 In[46]   triad      5\n",
        "    55 array.jl lexcmp  1019\n"
       ]
      }
     ],
     "prompt_number": 68
    },
    {
     "cell_type": "markdown",
     "metadata": {},
     "source": [
      "##Discussion\n",
      "\n",
      "In the first series of 10^3 data sets, it is impossible to tell which is faster, since they all run faster at different times based on what else my laptop is doing. \n",
      "\n",
      "In the second series we begin to see different things happening.\n",
      "In the case 5 (50/50 mix), twist1 was faster than twist2 or twist3. This is doesn't match the prediction I made, thinking ABS would be faster\n",
      "In Case 6(all pos), after multiple runs, twist1 outpaced twist 2 and 3.  This did not match prediction\n",
      "In Case 7 twist1 is barely faster than twist2. I would say they are comparable. This did not match prediction either\n",
      "Case 8 is similar to case 7. In profiling, we see that in twist3, all the time is sunk into taking the absolute value and this is never a net gain in processing time, as I had hoped it might be over a large positive data set. What seems to be the fastest across al is the single if/else in a for loop, instead of having it in two loops. less tiem is spenton if else than on abs. and it is sensible that going over a single loop is better than looping through the same data twice, even if you don't do perform an operation every iteration through the loop."
     ]
    },
    {
     "cell_type": "code",
     "collapsed": false,
     "input": [],
     "language": "python",
     "metadata": {},
     "outputs": []
    }
   ],
   "metadata": {}
  }
 ]
}