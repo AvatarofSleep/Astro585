{
 "metadata": {
  "language": "Julia",
  "name": ""
 },
 "nbformat": 3,
 "nbformat_minor": 0,
 "worksheets": [
  {
   "cells": [
    {
     "cell_type": "markdown",
     "metadata": {},
     "source": [
      "## Problem 1\n",
      "\n",
      "1.a.\n",
      "For this Exercise, the two profiled functions will be the leapfrog function created by Eric Ford and the student code found in his github repository.  \n",
      "\n",
      "1.b. \n",
      "\n",
      "HW_leapfrog.jl\n",
      "In integrate_leapfrog, line 87 will take the longest. It has the most children, as it goes to advance_leapfrog, which then goes to update_derivs_pos and _vel. In this vel is there all the calculation is done. I would guess over half the time is in this part. \n",
      "\n",
      "HW_leapfrog_student.jl\n",
      "In integrate_leapfrog_student, eachpart only calls one other function, and I would guess derivatives take the longest, but only about a third of the total time."
     ]
    },
    {
     "cell_type": "code",
     "collapsed": false,
     "input": [
      "include(\"HW4_leapfrog.jl\")\n",
      "include(\"HW4_leapfrog_student.jl\")\n",
      "\n",
      "@profile (for i in 1:100; integrate_leapfrog!([1.0,0.0,0.0,1.0],.01,100.00); end;)\n",
      "\n",
      "Profile.print(format =: flat)"
     ],
     "language": "python",
     "metadata": {},
     "outputs": [
      {
       "output_type": "stream",
       "stream": "stdout",
       "text": [
        " Count"
       ]
      },
      {
       "output_type": "stream",
       "stream": "stdout",
       "text": [
        " File                       Function                                 Line\n",
        "     7 ...stro585\\HW4_leapfrog.jl advance_leapfrog!                          46\n",
        "     2 ...stro585\\HW4_leapfrog.jl advance_leapfrog!                          49\n",
        "   125 ...stro585\\HW4_leapfrog.jl advance_leapfrog!                          51\n",
        "    68 ...stro585\\HW4_leapfrog.jl advance_leapfrog!                          52\n",
        "    99 ...stro585\\HW4_leapfrog.jl advance_leapfrog!                          53\n",
        "    15 ...stro585\\HW4_leapfrog.jl advance_leapfrog!                          54\n",
        "    93 ...stro585\\HW4_leapfrog.jl advance_leapfrog!                          55\n",
        "     1 ...stro585\\HW4_leapfrog.jl integrate_leapfrog!                        78\n",
        "     2 ...stro585\\HW4_leapfrog.jl integrate_leapfrog!                        82\n",
        "     3 ...stro585\\HW4_leapfrog.jl integrate_leapfrog!                        84\n",
        "   136 ...stro585\\HW4_leapfrog.jl integrate_leapfrog!                        87\n",
        "     8 ...stro585\\HW4_leapfrog.jl integrate_leapfrog!                        91\n",
        "     1 ...stro585\\HW4_leapfrog.jl integrate_leapfrog!                        93\n",
        "    57 ...stro585\\HW4_leapfrog.jl integrate_leapfrog!                        94\n",
        "   192 ...stro585\\HW4_leapfrog.jl integrate_leapfrog!                        95\n",
        "     2 ...stro585\\HW4_leapfrog.jl update_derivs_pos!                          6\n",
        "     2 ...stro585\\HW4_leapfrog.jl update_derivs_pos!                          7\n",
        "     1 ...stro585\\HW4_leapfrog.jl update_derivs_pos!                          8\n",
        "     2 ...stro585\\HW4_leapfrog.jl update_derivs_pos!                         11\n",
        "     5 ...stro585\\HW4_leapfrog.jl update_derivs_vel!                         18\n",
        "     1 ...stro585\\HW4_leapfrog.jl update_derivs_vel!                         21\n",
        "     1 ...stro585\\HW4_leapfrog.jl update_derivs_vel!                         22\n",
        "     5 ...stro585\\HW4_leapfrog.jl update_derivs_vel!                         23\n",
        "     1 ...stro585\\HW4_leapfrog.jl update_derivs_vel!                         24\n",
        "     1 ...stro585\\HW4_leapfrog.jl update_derivs_vel!                         25\n",
        "    16 ...stro585\\HW4_leapfrog.jl update_derivs_vel!                         26\n",
        "     4 ...stro585\\HW4_leapfrog.jl update_derivs_vel!                         27\n",
        "     1 ...stro585\\HW4_leapfrog.jl update_derivs_vel!                         30\n",
        "     3 abstractarray.jl           checkbounds                                63\n",
        "    59 abstractarray.jl           checkbounds                                74\n",
        "     2 abstractarray.jl           checkbounds                                75\n",
        "     9 abstractarray.jl           checkbounds                                95\n",
        "    27 abstractarray.jl           checkbounds                                96\n",
        "    12 abstractarray.jl           trailingsize                               54\n",
        "     1 abstractarray.jl           trailingsize                               56\n",
        "     5 array.jl                   copy!                                      48\n",
        "    12 array.jl                   copy!                                      51\n",
        "    88 array.jl                   getindex                                  342\n",
        "  2280 array.jl                   lexcmp                                   1019\n",
        "     4 array.jl                   setindex!                                 453\n",
        "    13 array.jl                   setindex!                                 454\n",
        "     4 array.jl                   setindex!                                 462\n",
        "     3 array.jl                   setindex!                                 464\n",
        "    12 array.jl                   setindex!                                 465\n",
        "     1 array.jl                   setindex!                                 469\n",
        "    17 array.jl                   unsafe_copy!                               31\n",
        "     7 array.jl                   unsafe_copy!                               38\n",
        "     1 array.jl                   unsafe_copy!                               44\n",
        "    27 deepcopy.jl                _deepcopy_array_t                          52\n",
        "    14 deepcopy.jl                _deepcopy_array_t                          53\n",
        "    44 deepcopy.jl                _deepcopy_array_t                          55\n",
        "    60 deepcopy.jl                deepcopy_internal                          45\n",
        "     6 deepcopy.jl                deepcopy_internal                          46\n",
        "    25 deepcopy.jl                deepcopy_internal                          48\n",
        "     4 int.jl                     <                                         227\n",
        "     3 operators.jl               >                                          19\n",
        "    77 profile.jl                 anonymous                                   4\n",
        "     2 profile.jl                 anonymous                                  14\n",
        "     1 profile.jl                 lookup                                     91\n",
        "    10 range.jl                   Range1                                     27\n",
        "     3 range.jl                   Range1                                     28\n",
        "    47 range.jl                   colon                                      38\n",
        "     9 range.jl                   minimum                                   100\n",
        "     4 reflection.jl              isbits                                     36\n"
       ]
      }
     ],
     "prompt_number": 21
    },
    {
     "cell_type": "code",
     "collapsed": false,
     "input": [
      "Profile.clear()\n",
      "@profile (for i in 1:100; integrate_leapfrog_student([1.0,0.0,0.0,1.0],.01,100.00); end;)\n",
      "Profile.print(format =: flat)"
     ],
     "language": "python",
     "metadata": {},
     "outputs": [
      {
       "output_type": "stream",
       "stream": "stderr",
       "text": [
        "WARNING: "
       ]
      },
      {
       "output_type": "stream",
       "stream": "stdout",
       "text": [
        " Count"
       ]
      },
      {
       "output_type": "stream",
       "stream": "stdout",
       "text": [
        " File                       Function                                 Line\n",
        "     1 ...HW4_leapfrog_student.jl derrivatives                                2\n",
        "     1 ...HW4_leapfrog_student.jl derrivatives                                3\n",
        "     4 ...HW4_leapfrog_student.jl derrivatives                                7\n",
        "     4 ...HW4_leapfrog_student.jl integrate_leapfrog_student                 31\n",
        "     4 ...HW4_leapfrog_student.jl integrate_leapfrog_student                 32\n",
        "     3 ...HW4_leapfrog_student.jl integrate_leapfrog_student                 33\n",
        "     9 ...HW4_leapfrog_student.jl integrate_leapfrog_student                 36\n",
        "    11 ...HW4_leapfrog_student.jl integrate_leapfrog_student                 37\n",
        "    20 ...HW4_leapfrog_student.jl integrate_leapfrog_student                 38\n",
        "    11 ...HW4_leapfrog_student.jl integrate_leapfrog_student                 39\n",
        "     1 ...HW4_leapfrog_student.jl leapfrog_update_both                       18\n",
        "     6 ...HW4_leapfrog_student.jl leapfrog_update_both                       20\n",
        "     3 ...HW4_leapfrog_student.jl leapfrog_update_pos                        11\n",
        "  3208 ...HW4_leapfrog_student.jl leapfrog_update_pos                        13\n",
        "    69 abstractarray.jl           vcat                                      706\n",
        " 16209 array.jl                   lexcmp                                   1019\n",
        "     1 array.jl                   vcat                                     1161\n",
        "     9 array.jl                   vcat                                     1164\n",
        "     3 array.jl                   vcat                                     1172\n",
        "     1 array.jl                   vcat                                     1173\n",
        "  3196 array.jl                   vcat                                     1174\n",
        "     3 array.jl                   vcat                                     1178\n",
        "    13 profile.jl                 anonymous                                   2\n",
        "     2 range.jl                   Range1                                     27\n",
        "     1 range.jl                   Range1                                     28\n",
        "    12 range.jl                   colon                                      38\n"
       ]
      },
      {
       "output_type": "stream",
       "stream": "stderr",
       "text": [
        "the profile data buffer is full; profiling probably terminated\n",
        "before your program finished. To profile for longer runs, call Profile.init()\n",
        "with a larger buffer and/or larger delay.\n"
       ]
      }
     ],
     "prompt_number": 22
    },
    {
     "cell_type": "markdown",
     "metadata": {},
     "source": [
      "1.D In both, it appears to be spending most of its time in array.jl, however, that is counted every thime an array is called or something is placed in. In the first code, this isn't a problem, and most of the time is spent where I believed it would be spent. "
     ]
    }
   ],
   "metadata": {}
  }
 ]
}