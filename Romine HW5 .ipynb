{
 "metadata": {
  "language": "Julia",
  "name": ""
 },
 "nbformat": 3,
 "nbformat_minor": 0,
 "worksheets": [
  {
   "cells": [
    {
     "cell_type": "markdown",
     "metadata": {},
     "source": [
      "## Homework 5\n",
      "\n",
      "# 1.a - simple matrix-vector multiply"
     ]
    },
    {
     "cell_type": "code",
     "collapsed": false,
     "input": [
      "    function MatVec(A::Array{Float64,2},b::Array{Float64,1})\n",
      "    \n",
      "    c = A*b\n",
      "    \n",
      "    return c\n",
      "end\n",
      "\n",
      "\n"
     ],
     "language": "python",
     "metadata": {},
     "outputs": [
      {
       "metadata": {},
       "output_type": "pyout",
       "prompt_number": 16,
       "text": [
        "MatVec (generic function with 1 method)"
       ]
      }
     ],
     "prompt_number": 16
    },
    {
     "cell_type": "code",
     "collapsed": false,
     "input": [
      "A = randn(6,6)\n",
      "b = randn(6)\n",
      "\n",
      "MatVec(A,b)"
     ],
     "language": "python",
     "metadata": {},
     "outputs": [
      {
       "metadata": {},
       "output_type": "pyout",
       "prompt_number": 37,
       "text": [
        "6-element Array{Float64,1}:\n",
        " -0.52709    \n",
        "  3.725      \n",
        "  1.78382    \n",
        " -1.14321    \n",
        "  0.000309691\n",
        " -0.837334   "
       ]
      }
     ],
     "prompt_number": 37
    },
    {
     "cell_type": "markdown",
     "metadata": {},
     "source": [
      "# 1.b for-loop matrix vector"
     ]
    },
    {
     "cell_type": "code",
     "collapsed": false,
     "input": [
      "function MatVecFor(A::Array{Float64,2},b::Array{Float64,1})\n",
      "    \n",
      "    @assert size(A,2) == length(b)\n",
      "    \n",
      "    c = zeros(length(b))\n",
      "    for i in 1:size(A,1)\n",
      "        for j in 1:length(b)\n",
      "            c[i] = c[i] + A[i,j]*b[j]\n",
      "        end\n",
      "    end\n",
      "    \n",
      "    return c\n",
      "end"
     ],
     "language": "python",
     "metadata": {},
     "outputs": [
      {
       "metadata": {},
       "output_type": "pyout",
       "prompt_number": 44,
       "text": [
        "MatVecFor (generic function with 1 method)"
       ]
      }
     ],
     "prompt_number": 44
    },
    {
     "cell_type": "code",
     "collapsed": false,
     "input": [
      "MatVecFor(A,b)"
     ],
     "language": "python",
     "metadata": {},
     "outputs": [
      {
       "metadata": {},
       "output_type": "pyout",
       "prompt_number": 45,
       "text": [
        "6-element Array{Float64,1}:\n",
        " -0.52709    \n",
        "  3.725      \n",
        "  1.78382    \n",
        " -1.14321    \n",
        "  0.000309691\n",
        " -0.837334   "
       ]
      }
     ],
     "prompt_number": 45
    },
    {
     "cell_type": "markdown",
     "metadata": {},
     "source": [
      "Returns same value!"
     ]
    },
    {
     "cell_type": "code",
     "collapsed": false,
     "input": [
      "function MatVecFor2(A::Array{Float64,2},b::Array{Float64,1})\n",
      "    \n",
      "    @assert size(A,2) == length(b)\n",
      "    \n",
      "    c = zeros(size(A,2),size(A,1))\n",
      "    for i in 1:length(b)\n",
      "        for j in 1:size(A,1)\n",
      "            c[j,i] = A[j,i]*b[i]\n",
      "        end\n",
      "    end\n",
      "    c = sum(c,2)\n",
      "    return c\n",
      "end"
     ],
     "language": "python",
     "metadata": {},
     "outputs": [
      {
       "metadata": {},
       "output_type": "pyout",
       "prompt_number": 59,
       "text": [
        "MatVecFor2 (generic function with 1 method)"
       ]
      }
     ],
     "prompt_number": 59
    },
    {
     "cell_type": "code",
     "collapsed": false,
     "input": [
      "d = MatVecFor2(A,b)"
     ],
     "language": "python",
     "metadata": {},
     "outputs": [
      {
       "metadata": {},
       "output_type": "pyout",
       "prompt_number": 60,
       "text": [
        "6x1 Array{Float64,2}:\n",
        " -0.52709    \n",
        "  3.725      \n",
        "  1.78382    \n",
        " -1.14321    \n",
        "  0.000309691\n",
        " -0.837334   "
       ]
      }
     ],
     "prompt_number": 60
    },
    {
     "cell_type": "markdown",
     "metadata": {},
     "source": [
      "Again the result is the same!\n",
      "\n",
      "# 1.D and E.\n",
      "\n",
      "In benchmarking, I would guess that the native functions in Julia would be faster for doing vector-matrix multiplication on large scale. my rationale is that there may be methods for calucaltion which can bring the time down that can be accomplished faster than a double for loop. For small operations, I suspect that method B will be faster, as it fills a single vector c, and can do it without first making initial comparisons (checking vectors and matrices) that might be in Julia's native function.\n",
      "\n",
      "# 1.F"
     ]
    },
    {
     "cell_type": "code",
     "collapsed": false,
     "input": [
      "A = randn(10,10)\n",
      "b = randn(10)\n",
      "\n",
      "@time MatVec(A,b)\n",
      "@time MatVecFor(A,b)\n",
      "@time MatVecFor2(A,b)"
     ],
     "language": "python",
     "metadata": {},
     "outputs": [
      {
       "output_type": "stream",
       "stream": "stdout",
       "text": [
        "elapsed time: "
       ]
      },
      {
       "output_type": "stream",
       "stream": "stdout",
       "text": [
        "0.002924638 seconds (148 bytes allocated)\n",
        "elapsed time: 8.854e-6 seconds (148 bytes allocated)\n",
        "elapsed time: 5.0431e-5 seconds (1376 bytes allocated)\n"
       ]
      },
      {
       "metadata": {},
       "output_type": "pyout",
       "prompt_number": 63,
       "text": [
        "10x1 Array{Float64,2}:\n",
        "  1.48025 \n",
        "  0.526221\n",
        " -1.73062 \n",
        "  5.74817 \n",
        "  1.78243 \n",
        " -3.93569 \n",
        "  1.12031 \n",
        "  2.66351 \n",
        " -4.77233 \n",
        " -2.8814  "
       ]
      }
     ],
     "prompt_number": 63
    },
    {
     "cell_type": "code",
     "collapsed": false,
     "input": [
      "A = randn(256,256)\n",
      "b = randn(256)\n",
      "\n",
      "@time MatVec(A,b)\n",
      "@time MatVecFor(A,b)\n",
      "@time MatVecFor2(A,b)"
     ],
     "language": "python",
     "metadata": {},
     "outputs": [
      {
       "output_type": "stream",
       "stream": "stdout",
       "text": [
        "elapsed time: "
       ]
      },
      {
       "output_type": "stream",
       "stream": "stdout",
       "text": [
        "0.003284202 seconds (2132 bytes allocated)\n",
        "elapsed time: 0.00126117 seconds (2132 bytes allocated)\n",
        "elapsed time: 0.002352183 seconds (526784 bytes allocated)\n"
       ]
      },
      {
       "metadata": {},
       "output_type": "pyout",
       "prompt_number": 66,
       "text": [
        "256x1 Array{Float64,2}:\n",
        "  24.7171   \n",
        "   0.637852 \n",
        " -11.3228   \n",
        "   5.47412  \n",
        "  -3.39512  \n",
        "  -6.61738  \n",
        "   9.20851  \n",
        "  -7.30049  \n",
        "  -8.93875  \n",
        " -16.7041   \n",
        "   0.0490986\n",
        " -17.8187   \n",
        "  25.1161   \n",
        "   \u22ee        \n",
        "  -6.7833   \n",
        " -34.7911   \n",
        "  36.3846   \n",
        " -14.3245   \n",
        "  -6.53781  \n",
        " -12.2343   \n",
        "  -6.93102  \n",
        "  13.0577   \n",
        " -22.7256   \n",
        " -28.8209   \n",
        "  24.288    \n",
        "   7.73869  "
       ]
      }
     ],
     "prompt_number": 66
    },
    {
     "cell_type": "code",
     "collapsed": false,
     "input": [
      "A = randn(1024,1024)\n",
      "b = randn(1024)\n",
      "\n",
      "@time MatVec(A,b)\n",
      "@time MatVecFor(A,b)\n",
      "@time MatVecFor2(A,b)"
     ],
     "language": "python",
     "metadata": {},
     "outputs": [
      {
       "output_type": "stream",
       "stream": "stdout",
       "text": [
        "elapsed time: "
       ]
      },
      {
       "output_type": "stream",
       "stream": "stdout",
       "text": [
        "0.001605721 seconds (8276 bytes allocated)\n",
        "elapsed time: 0.055806408 seconds (8276 bytes allocated)\n"
       ]
      },
      {
       "output_type": "stream",
       "stream": "stdout",
       "text": [
        "elapsed time: 0.055564645 seconds (8397256 bytes allocated)\n"
       ]
      },
      {
       "metadata": {},
       "output_type": "pyout",
       "prompt_number": 64,
       "text": [
        "1024x1 Array{Float64,2}:\n",
        "  10.7422  \n",
        "   6.94017 \n",
        "  -0.46775 \n",
        " -44.163   \n",
        "  22.4773  \n",
        " -33.8392  \n",
        "  10.1406  \n",
        "  -6.7173  \n",
        " -16.3428  \n",
        "   7.43321 \n",
        " -33.2136  \n",
        "   5.16435 \n",
        " -32.5699  \n",
        "   \u22ee       \n",
        " -13.1881  \n",
        " -43.8444  \n",
        " -48.804   \n",
        "  -2.88219 \n",
        " -70.1234  \n",
        "  -7.39867 \n",
        "   0.375768\n",
        "  -9.94771 \n",
        "  55.5509  \n",
        "  -6.89541 \n",
        "  32.9008  \n",
        " -10.3334  "
       ]
      }
     ],
     "prompt_number": 64
    },
    {
     "cell_type": "code",
     "collapsed": false,
     "input": [
      "A = randn(8192,8192)\n",
      "b = randn(8192)\n",
      "\n",
      "@time MatVec(A,b)\n",
      "@time MatVecFor(A,b)\n",
      "@time MatVecFor2(A,b)"
     ],
     "language": "python",
     "metadata": {},
     "outputs": [
      {
       "output_type": "stream",
       "stream": "stdout",
       "text": [
        "elapsed time: "
       ]
      },
      {
       "output_type": "stream",
       "stream": "stdout",
       "text": [
        "0.074373255 seconds (65604 bytes allocated)\n"
       ]
      },
      {
       "output_type": "stream",
       "stream": "stdout",
       "text": [
        "elapsed time: 3.281664098 seconds (65604 bytes allocated)\n"
       ]
      },
      {
       "output_type": "stream",
       "stream": "stdout",
       "text": [
        "elapsed time: 4.191119681 seconds (536936888 bytes allocated)\n"
       ]
      },
      {
       "metadata": {},
       "output_type": "pyout",
       "prompt_number": 65,
       "text": [
        "8192x1 Array{Float64,2}:\n",
        "   98.4459\n",
        "   84.9102\n",
        "   97.5575\n",
        " -114.347 \n",
        "   78.5497\n",
        "   15.0053\n",
        "  -13.9452\n",
        "  -61.6254\n",
        " -109.75  \n",
        "   23.2658\n",
        "  218.068 \n",
        "   34.8493\n",
        " -130.803 \n",
        "    \u22ee     \n",
        "   21.074 \n",
        "  147.529 \n",
        "  -13.6822\n",
        "  137.622 \n",
        "  -53.4841\n",
        " -112.686 \n",
        "  -40.699 \n",
        " -124.553 \n",
        "  -52.9144\n",
        "  -55.2829\n",
        " -199.113 \n",
        "  149.051 "
       ]
      }
     ],
     "prompt_number": 65
    },
    {
     "cell_type": "markdown",
     "metadata": {},
     "source": [
      "# 1.F 1.G\n",
      "\n",
      "I was right. Not sure how julia works the matrices (better use of the processor?), but it is very convenient for matrices above 256x256. And there is the lag at low values, with both for loops working faster. "
     ]
    },
    {
     "cell_type": "code",
     "collapsed": false,
     "input": [],
     "language": "python",
     "metadata": {},
     "outputs": []
    }
   ],
   "metadata": {}
  }
 ]
}